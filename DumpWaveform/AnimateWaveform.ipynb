{
 "cells": [
  {
   "cell_type": "code",
   "execution_count": null,
   "id": "eaa22829",
   "metadata": {},
   "outputs": [],
   "source": [
    "# Animation method from\n",
    "# http://louistiao.me/posts/notebooks/embedding-matplotlib-animations-in-jupyter-as-interactive-javascript-widgets/"
   ]
  },
  {
   "cell_type": "code",
   "execution_count": null,
   "id": "6d0360a7",
   "metadata": {},
   "outputs": [],
   "source": [
    "import numpy as np\n",
    "import matplotlib.pyplot as plt\n",
    "from matplotlib import animation, rc\n",
    "from IPython.display import HTML"
   ]
  },
  {
   "cell_type": "code",
   "execution_count": null,
   "id": "1bc60c12",
   "metadata": {},
   "outputs": [],
   "source": [
    "rc(\"animation\", html=\"jshtml\")\n",
    "rc(\"figure\", figsize=(8, 8))"
   ]
  },
  {
   "cell_type": "code",
   "execution_count": null,
   "id": "ed4fdb04",
   "metadata": {},
   "outputs": [],
   "source": [
    "wave = np.fromfile(\"WaveformTest.raw\")\n",
    "wave = wave.reshape(2, -1)"
   ]
  },
  {
   "cell_type": "code",
   "execution_count": null,
   "id": "16fa531e",
   "metadata": {},
   "outputs": [],
   "source": [
    "plot_range = 1.0"
   ]
  },
  {
   "cell_type": "code",
   "execution_count": null,
   "id": "04653002",
   "metadata": {},
   "outputs": [],
   "source": [
    "fig, ax = plt.subplots()\n",
    "ax.set_xlim(-plot_range, plot_range)\n",
    "ax.set_ylim(plot_range, -plot_range)\n",
    "ax.set_aspect('equal', adjustable='box')\n",
    "# static_line = ax.plot(wave[0], wave[1])\n",
    "line, = ax.plot([], [])"
   ]
  },
  {
   "cell_type": "code",
   "execution_count": null,
   "id": "1a0617bb",
   "metadata": {},
   "outputs": [],
   "source": [
    "tstep = 10\n",
    "frames = wave.shape[1] // tstep\n",
    "frames"
   ]
  },
  {
   "cell_type": "code",
   "execution_count": null,
   "id": "5acd8868",
   "metadata": {},
   "outputs": [],
   "source": [
    "def init():\n",
    "    line.set_data([], [])\n",
    "    return (line,)"
   ]
  },
  {
   "cell_type": "code",
   "execution_count": null,
   "id": "19b3d5fa",
   "metadata": {},
   "outputs": [],
   "source": [
    "def animate(i):\n",
    "    tstart = 0\n",
    "    tstop = min(wave.shape[1], i * tstep)\n",
    "    t = range(tstart, tstop)\n",
    "    x = wave[0, t]\n",
    "    y = wave[1, t]\n",
    "    line.set_data(x, y)\n",
    "    return (line,)"
   ]
  },
  {
   "cell_type": "code",
   "execution_count": null,
   "id": "6643efc0",
   "metadata": {},
   "outputs": [],
   "source": [
    "anim = animation.FuncAnimation(fig, animate, init_func=init,\n",
    "                               frames=frames, interval=20, blit=True)"
   ]
  },
  {
   "cell_type": "code",
   "execution_count": null,
   "id": "3c5af8ca",
   "metadata": {},
   "outputs": [],
   "source": [
    "anim  # This will take a while to display"
   ]
  },
  {
   "cell_type": "code",
   "execution_count": null,
   "id": "2369d7aa",
   "metadata": {},
   "outputs": [],
   "source": []
  }
 ],
 "metadata": {
  "kernelspec": {
   "display_name": "Python 3 (ipykernel)",
   "language": "python",
   "name": "python3"
  },
  "language_info": {
   "codemirror_mode": {
    "name": "ipython",
    "version": 3
   },
   "file_extension": ".py",
   "mimetype": "text/x-python",
   "name": "python",
   "nbconvert_exporter": "python",
   "pygments_lexer": "ipython3",
   "version": "3.10.0"
  }
 },
 "nbformat": 4,
 "nbformat_minor": 5
}
